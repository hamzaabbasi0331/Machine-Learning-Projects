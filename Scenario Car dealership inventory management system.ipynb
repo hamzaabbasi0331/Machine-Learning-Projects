{
 "cells": [
  {
   "cell_type": "markdown",
   "metadata": {},
   "source": [
    "<center>\n",
    "    \n",
    "# Scenario: Car dealership's inventory management system\n",
    "\n",
    "</center>\n"
   ]
  },
  {
   "cell_type": "markdown",
   "metadata": {},
   "source": [
    "You are working on a Python program to simulate a car dealership's inventory management system. The system aims to model cars and their attributes accurately.\n"
   ]
  },
  {
   "cell_type": "markdown",
   "metadata": {},
   "source": [
    "### Task-1. You are tasked with creating a Python program to represent vehicles using a class. Each car should have attributes for maximum speed and mileage. \n"
   ]
  },
  {
   "cell_type": "code",
   "execution_count": 1,
   "metadata": {},
   "outputs": [],
   "source": [
    "class car:\n",
    "    def __init__(self, maximum_speed, mileage):\n",
    "        self.maximum_speed = maximum_speed\n",
    "        self.mileage = mileage"
   ]
  },
  {
   "cell_type": "markdown",
   "metadata": {},
   "source": [
    "### Task-2. Update the class with the default color for all vehicles,\" white\"."
   ]
  },
  {
   "cell_type": "code",
   "execution_count": 2,
   "metadata": {},
   "outputs": [],
   "source": [
    "class car:\n",
    "    def __init__(self, maximum_speed, mileage, car_color = \"White\"):\n",
    "        self.maximum_speed = maximum_speed\n",
    "        self.mileage = mileage\n",
    "        self.car_color = car_color"
   ]
  },
  {
   "cell_type": "markdown",
   "metadata": {},
   "source": [
    "### Task-3. Additionally, you need to create methods in the Vehicle class to assign seating capacity to a vehicle. \n"
   ]
  },
  {
   "cell_type": "code",
   "execution_count": 3,
   "metadata": {},
   "outputs": [],
   "source": [
    "class car:\n",
    "    def __init__(self, maximum_speed, mileage, car_color = \"White\"):\n",
    "        self.maximum_speed = maximum_speed\n",
    "        self.mileage = mileage\n",
    "        self.car_color = car_color\n",
    "    def seating_capacity(self, seating_capacity):\n",
    "        self.seating_capacity = seating_capacity"
   ]
  },
  {
   "cell_type": "markdown",
   "metadata": {},
   "source": [
    "### Task-4. Create a method to display all the properties of an object of the class. \n"
   ]
  },
  {
   "cell_type": "code",
   "execution_count": 4,
   "metadata": {},
   "outputs": [],
   "source": [
    "class car:\n",
    "    def __init__(self, maximum_speed, mileage, car_color = \"White\"):\n",
    "        self.maximum_speed = maximum_speed\n",
    "        self.mileage = mileage\n",
    "        self.car_color = car_color\n",
    "    def seating_capacity(self, seating_capacity):\n",
    "        self.seating_capacity = seating_capacity\n",
    "    def properties(self):\n",
    "        print(\"Properties of the car are:\")\n",
    "        print(\"Color:\", self.color)\n",
    "        print(\"Maximum_speed:\", self.maximum_speed)\n",
    "        print(\"Mileage:\", self.mileage)\n",
    "        print(\"Seating Capacity:\", self.seating_capacity)"
   ]
  },
  {
   "cell_type": "markdown",
   "metadata": {},
   "source": [
    "### Task-5. Additionally, you need to create two objects of the Vehicle class object that should have a max speed of 200kph and mileage of 50000kmpl with five seating capacities, and another car object should have a max speed of 180kph and 75000kmpl with four seating capacities.\n"
   ]
  },
  {
   "cell_type": "code",
   "execution_count": 5,
   "metadata": {},
   "outputs": [
    {
     "name": "stdout",
     "output_type": "stream",
     "text": [
      "Properties of the car are:\n",
      "Color: White\n",
      "Maximum_speed: 200kph\n",
      "Mileage: 50000kmpl\n",
      "Seating Capacity: 5\n"
     ]
    }
   ],
   "source": [
    "class Car:\n",
    "    def __init__(self, maximum_speed, mileage, car_color=\"White\"):\n",
    "        self.maximum_speed = maximum_speed\n",
    "        self.mileage = mileage\n",
    "        self.car_color = car_color\n",
    "        self.seating_capacity = 0\n",
    "        \n",
    "    def set_seating_capacity(self, seating_capacity):  \n",
    "        self.seating_capacity = seating_capacity\n",
    "        \n",
    "    def properties(self):\n",
    "        print(\"Properties of the car are:\")\n",
    "        print(\"Color:\", self.car_color)\n",
    "        print(\"Maximum_speed:\", self.maximum_speed)\n",
    "        print(\"Mileage:\", self.mileage)\n",
    "        print(\"Seating Capacity:\", self.seating_capacity)\n",
    "\n",
    "car1 = Car(\"200kph\", \"50000kmpl\", \"White\")\n",
    "car1.set_seating_capacity(5)  \n",
    "car1.properties()\n",
    "\n"
   ]
  },
  {
   "cell_type": "code",
   "execution_count": 6,
   "metadata": {},
   "outputs": [
    {
     "name": "stdout",
     "output_type": "stream",
     "text": [
      "Properties of the car are:\n",
      "Color: White\n",
      "Maximum_speed: 200\n",
      "Mileage: 50000\n",
      "Seating Capacity: 5 person\n"
     ]
    }
   ],
   "source": [
    "class Car:\n",
    "    def __init__(self, maximum_speed, mileage, car_color=\"White\", seating_capacity=\"5 person\"):\n",
    "        self.maximum_speed = maximum_speed\n",
    "        self.mileage = mileage\n",
    "        self.car_color = car_color\n",
    "        self.seating_capacity = seating_capacity\n",
    "\n",
    "    def properties(self):\n",
    "        print(\"Properties of the car are:\")\n",
    "        print(\"Color:\", self.car_color)\n",
    "        print(\"Maximum_speed:\", self.maximum_speed)\n",
    "        print(\"Mileage:\", self.mileage)\n",
    "        print(\"Seating Capacity:\", self.seating_capacity)\n",
    "\n",
    "# Note: You can use numeric values for maximum_speed and mileage\n",
    "car1 = Car(maximum_speed=200, mileage=50000, car_color=\"White\", seating_capacity=\"5 person\")\n",
    "car1.properties()\n"
   ]
  }
 ],
 "metadata": {
  "kernelspec": {
   "display_name": "Python 3",
   "language": "python",
   "name": "python3"
  },
  "language_info": {
   "codemirror_mode": {
    "name": "ipython",
    "version": 3
   },
   "file_extension": ".py",
   "mimetype": "text/x-python",
   "name": "python",
   "nbconvert_exporter": "python",
   "pygments_lexer": "ipython3",
   "version": "3.10.11"
  },
  "orig_nbformat": 4
 },
 "nbformat": 4,
 "nbformat_minor": 2
}
